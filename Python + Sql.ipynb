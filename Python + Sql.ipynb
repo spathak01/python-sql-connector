{
 "cells": [
  {
   "cell_type": "code",
   "execution_count": 1,
   "id": "c9434d7c",
   "metadata": {},
   "outputs": [
    {
     "name": "stdout",
     "output_type": "stream",
     "text": [
      "Requirement already satisfied: mysql-connector-python in c:\\users\\sandeep pathak\\anaconda3\\lib\\site-packages (8.0.32)\n",
      "Requirement already satisfied: protobuf<=3.20.3,>=3.11.0 in c:\\users\\sandeep pathak\\anaconda3\\lib\\site-packages (from mysql-connector-python) (3.19.1)\n",
      "Note: you may need to restart the kernel to use updated packages.\n"
     ]
    }
   ],
   "source": [
    "pip install mysql-connector-python"
   ]
  },
  {
   "cell_type": "code",
   "execution_count": 2,
   "id": "8c921708",
   "metadata": {},
   "outputs": [],
   "source": [
    "# Importing the libraries\n",
    "\n",
    "import mysql.connector\n",
    "from mysql.connector import Error\n",
    "import pandas as pd"
   ]
  },
  {
   "cell_type": "code",
   "execution_count": 3,
   "id": "8fcc0666",
   "metadata": {},
   "outputs": [
    {
     "name": "stdout",
     "output_type": "stream",
     "text": [
      "MySQL connection Successfull\n"
     ]
    },
    {
     "data": {
      "text/plain": [
       "<mysql.connector.connection_cext.CMySQLConnection at 0x200b81de1c0>"
      ]
     },
     "execution_count": 3,
     "metadata": {},
     "output_type": "execute_result"
    }
   ],
   "source": [
    "def create_server_connection(host_name,user_name,user_password):\n",
    "    \n",
    "    global connection\n",
    "    connection = None# \n",
    "    \n",
    "    try:\n",
    "        connection = mysql.connector.connect(\n",
    "        host = host_name,\n",
    "        user = user_name,\n",
    "            password = user_password\n",
    "        )\n",
    "        print(\"MySQL connection Successfull\")\n",
    "        \n",
    "    except Error as er:\n",
    "        print(f\"Error: {er}\")\n",
    "        \n",
    "    return connection\n",
    "\n",
    "ps = \"12345\"\n",
    "\n",
    "db = \"Internship\"\n",
    "\n",
    "create_server_connection(\"localhost\",\"root\",ps)"
   ]
  },
  {
   "cell_type": "code",
   "execution_count": 4,
   "id": "ab45c414",
   "metadata": {},
   "outputs": [
    {
     "name": "stdout",
     "output_type": "stream",
     "text": [
      "Error: 1007 (HY000): Can't create database 'internship'; database exists\n"
     ]
    }
   ],
   "source": [
    "# Create Database Internship\n",
    "\n",
    "def create_database(connection,query):\n",
    "    cursor = connection.cursor()\n",
    "    \n",
    "    try:\n",
    "        cursor.execute(query)\n",
    "        print(\"Database created Successfully\")\n",
    "        \n",
    "    except Error as er:\n",
    "        print(f\"Error: {er}\")\n",
    "        \n",
    "create_database_query = \"Create Database Internship\"\n",
    "create_database(connection,create_database_query)\n",
    "\n",
    "        \n",
    "\n",
    "        \n",
    "        "
   ]
  },
  {
   "cell_type": "code",
   "execution_count": 13,
   "id": "bb53d815",
   "metadata": {},
   "outputs": [],
   "source": [
    "# connect to database \n",
    "\n",
    "def create_db_connection(host_name,user_name,user_password,db_name):\n",
    "    connection = None\n",
    "    \n",
    "    try:\n",
    "        connection = mysql.connector.connect(\n",
    "        host = host_name,\n",
    "        user = user_name,\n",
    "        password = user_password,\n",
    "        database = db_name\n",
    "        )\n",
    "        print(\"MYSQL Database Connection Successful\")\n",
    "        \n",
    "    except Error as er:\n",
    "        print(f\"Error: {er}\")\n",
    "        \n",
    "    return connection\n",
    "\n",
    "        "
   ]
  },
  {
   "cell_type": "code",
   "execution_count": 15,
   "id": "6d696e5a",
   "metadata": {},
   "outputs": [],
   "source": [
    "# Execute SQL Queries\n",
    "\n",
    "global cursor\n",
    "\n",
    "def execute_query(connection,query):\n",
    "    cursor = connection.cursor()\n",
    "    \n",
    "    try:\n",
    "        cursor.execute(query)\n",
    "        connection.commit()\n",
    "        print(\"Query was Successful\")\n",
    "        \n",
    "    except Error as er:\n",
    "        print(f\"Error: {er}\")"
   ]
  },
  {
   "cell_type": "code",
   "execution_count": 16,
   "id": "08aa8225",
   "metadata": {},
   "outputs": [
    {
     "name": "stdout",
     "output_type": "stream",
     "text": [
      "MYSQL Database Connection Successful\n",
      "Query was Successful\n"
     ]
    }
   ],
   "source": [
    "create_orders_table = \"\"\"\n",
    "Create table orders(\n",
    "order_id int primary key,\n",
    "customer_name varchar(30) not null,\n",
    "product_name varchar(30) not null,\n",
    "date_ordered date,\n",
    "quantity int,\n",
    "unit_price float,\n",
    "phone_number varchar(30));\n",
    "\"\"\"\n",
    "\n",
    "# connect to the database\n",
    "\n",
    "connection = create_db_connection(\"localhost\",\"root\",ps,db)\n",
    "execute_query(connection,create_orders_table)"
   ]
  },
  {
   "cell_type": "code",
   "execution_count": 17,
   "id": "7ba75af6",
   "metadata": {},
   "outputs": [
    {
     "name": "stdout",
     "output_type": "stream",
     "text": [
      "MYSQL Database Connection Successful\n",
      "Query was Successful\n"
     ]
    }
   ],
   "source": [
    "# insert data\n",
    "\n",
    "data_orders = \"\"\"\n",
    "insert into orders values\n",
    "(101,'Steve',\"laptop\",\"2008-06-12\",2,800,\"9654875412\"),\n",
    "(102, 'Jos', 'Books', '2019-02-10', 10, 12, '8367489124'),\n",
    "(103, 'Stacy', 'Trousers', '2019-12-25', 5, 50, '8976123645'),\n",
    "(104, 'Nancy', 'T-Shirts', '2018-07-14', 7, 30, '7368145099'),\n",
    "(105, 'Maria', 'Headphones', '2019-05-30', 6, 48, '8865316698'), \n",
    "(106, 'Danny', 'Smart TV', '2018-08-20', 10, 300, '7720130449');\n",
    "\"\"\"\n",
    "\n",
    "connection = create_db_connection(\"localhost\",\"root\",ps,db)\n",
    "execute_query(connection,data_orders)"
   ]
  },
  {
   "cell_type": "code",
   "execution_count": 18,
   "id": "3c50711e",
   "metadata": {},
   "outputs": [],
   "source": [
    "def read_query(connection,query):\n",
    "    cursor = connection.cursor()\n",
    "    results = None\n",
    "    \n",
    "    try:\n",
    "        cursor.execute(query)\n",
    "        result = cursor.fetchall()\n",
    "        return result\n",
    "    except Error as er:\n",
    "        print(f\"Error: {er}\")"
   ]
  },
  {
   "cell_type": "code",
   "execution_count": 19,
   "id": "dd8318d4",
   "metadata": {},
   "outputs": [
    {
     "name": "stdout",
     "output_type": "stream",
     "text": [
      "MYSQL Database Connection Successful\n",
      "(101, 'Steve', 'laptop', datetime.date(2008, 6, 12), 2, 800.0, '9654875412')\n",
      "(102, 'Jos', 'Books', datetime.date(2019, 2, 10), 10, 12.0, '8367489124')\n",
      "(103, 'Stacy', 'Trousers', datetime.date(2019, 12, 25), 5, 50.0, '8976123645')\n",
      "(104, 'Nancy', 'T-Shirts', datetime.date(2018, 7, 14), 7, 30.0, '7368145099')\n",
      "(105, 'Maria', 'Headphones', datetime.date(2019, 5, 30), 6, 48.0, '8865316698')\n",
      "(106, 'Danny', 'Smart TV', datetime.date(2018, 8, 20), 10, 300.0, '7720130449')\n"
     ]
    }
   ],
   "source": [
    "# Usinf Select statement\n",
    "\n",
    "Q1 = \"\"\"\n",
    "Select * from orders;\n",
    "\"\"\"\n",
    "\n",
    "connection = create_db_connection(\"localhost\",\"root\",ps,db)\n",
    "results = read_query(connection,Q1)\n",
    "\n",
    "for result in results:\n",
    "    print(result)"
   ]
  },
  {
   "cell_type": "code",
   "execution_count": 20,
   "id": "3b718e69",
   "metadata": {},
   "outputs": [
    {
     "data": {
      "text/html": [
       "<div>\n",
       "<style scoped>\n",
       "    .dataframe tbody tr th:only-of-type {\n",
       "        vertical-align: middle;\n",
       "    }\n",
       "\n",
       "    .dataframe tbody tr th {\n",
       "        vertical-align: top;\n",
       "    }\n",
       "\n",
       "    .dataframe thead th {\n",
       "        text-align: right;\n",
       "    }\n",
       "</style>\n",
       "<table border=\"1\" class=\"dataframe\">\n",
       "  <thead>\n",
       "    <tr style=\"text-align: right;\">\n",
       "      <th></th>\n",
       "      <th>order_id</th>\n",
       "      <th>customer_name</th>\n",
       "      <th>product_name</th>\n",
       "      <th>date_ordered</th>\n",
       "      <th>quantity</th>\n",
       "      <th>unit_price</th>\n",
       "      <th>phone_number</th>\n",
       "    </tr>\n",
       "  </thead>\n",
       "  <tbody>\n",
       "    <tr>\n",
       "      <th>0</th>\n",
       "      <td>101</td>\n",
       "      <td>Steve</td>\n",
       "      <td>laptop</td>\n",
       "      <td>2008-06-12</td>\n",
       "      <td>2</td>\n",
       "      <td>800.0</td>\n",
       "      <td>9654875412</td>\n",
       "    </tr>\n",
       "    <tr>\n",
       "      <th>1</th>\n",
       "      <td>102</td>\n",
       "      <td>Jos</td>\n",
       "      <td>Books</td>\n",
       "      <td>2019-02-10</td>\n",
       "      <td>10</td>\n",
       "      <td>12.0</td>\n",
       "      <td>8367489124</td>\n",
       "    </tr>\n",
       "    <tr>\n",
       "      <th>2</th>\n",
       "      <td>103</td>\n",
       "      <td>Stacy</td>\n",
       "      <td>Trousers</td>\n",
       "      <td>2019-12-25</td>\n",
       "      <td>5</td>\n",
       "      <td>50.0</td>\n",
       "      <td>8976123645</td>\n",
       "    </tr>\n",
       "    <tr>\n",
       "      <th>3</th>\n",
       "      <td>104</td>\n",
       "      <td>Nancy</td>\n",
       "      <td>T-Shirts</td>\n",
       "      <td>2018-07-14</td>\n",
       "      <td>7</td>\n",
       "      <td>30.0</td>\n",
       "      <td>7368145099</td>\n",
       "    </tr>\n",
       "    <tr>\n",
       "      <th>4</th>\n",
       "      <td>105</td>\n",
       "      <td>Maria</td>\n",
       "      <td>Headphones</td>\n",
       "      <td>2019-05-30</td>\n",
       "      <td>6</td>\n",
       "      <td>48.0</td>\n",
       "      <td>8865316698</td>\n",
       "    </tr>\n",
       "    <tr>\n",
       "      <th>5</th>\n",
       "      <td>106</td>\n",
       "      <td>Danny</td>\n",
       "      <td>Smart TV</td>\n",
       "      <td>2018-08-20</td>\n",
       "      <td>10</td>\n",
       "      <td>300.0</td>\n",
       "      <td>7720130449</td>\n",
       "    </tr>\n",
       "  </tbody>\n",
       "</table>\n",
       "</div>"
      ],
      "text/plain": [
       "   order_id customer_name product_name date_ordered  quantity  unit_price  \\\n",
       "0       101         Steve       laptop   2008-06-12         2       800.0   \n",
       "1       102           Jos        Books   2019-02-10        10        12.0   \n",
       "2       103         Stacy     Trousers   2019-12-25         5        50.0   \n",
       "3       104         Nancy     T-Shirts   2018-07-14         7        30.0   \n",
       "4       105         Maria   Headphones   2019-05-30         6        48.0   \n",
       "5       106         Danny     Smart TV   2018-08-20        10       300.0   \n",
       "\n",
       "  phone_number  \n",
       "0   9654875412  \n",
       "1   8367489124  \n",
       "2   8976123645  \n",
       "3   7368145099  \n",
       "4   8865316698  \n",
       "5   7720130449  "
      ]
     },
     "metadata": {},
     "output_type": "display_data"
    }
   ],
   "source": [
    "from_db = []\n",
    "\n",
    "for result in results:\n",
    "    result = list(result)\n",
    "    from_db.append(result)\n",
    "    \n",
    "columns = [\"order_id\", \"customer_name\", \"product_name\", \"date_ordered\", \"quantity\",\n",
    "\"unit_price\", \"phone_number\"]\n",
    "\n",
    "df = pd.DataFrame(from_db,columns = columns)\n",
    "display(df)"
   ]
  },
  {
   "cell_type": "code",
   "execution_count": 21,
   "id": "f914f42b",
   "metadata": {},
   "outputs": [
    {
     "name": "stdout",
     "output_type": "stream",
     "text": [
      "MYSQL Database Connection Successful\n",
      "(2008,)\n",
      "(2019,)\n",
      "(2018,)\n"
     ]
    }
   ],
   "source": [
    "Q2 = \"\"\"\n",
    "SELECT DISTINCT year(date_ordered) FROM orders;\n",
    "\"\"\"\n",
    "\n",
    "connection = create_db_connection(\"localhost\",\"root\",ps,db)\n",
    "results = read_query(connection,Q2)\n",
    "\n",
    "for result in results:\n",
    "    print(result)"
   ]
  },
  {
   "cell_type": "code",
   "execution_count": 23,
   "id": "7b2074a4",
   "metadata": {},
   "outputs": [
    {
     "name": "stdout",
     "output_type": "stream",
     "text": [
      "MYSQL Database Connection Successful\n"
     ]
    }
   ],
   "source": [
    "Q3 = \"\"\"\n",
    "DELETE FROM orders\n",
    "WHERE order_id = 103;\n",
    ";\n",
    "\"\"\"\n",
    "\n",
    "connection = create_db_connection(\"localhost\",\"root\",ps,db)\n",
    "results = read_query(connection,Q3)\n",
    "\n",
    "for result in results:\n",
    "    print(result)"
   ]
  },
  {
   "cell_type": "code",
   "execution_count": 25,
   "id": "1f35d43e",
   "metadata": {},
   "outputs": [
    {
     "name": "stdout",
     "output_type": "stream",
     "text": [
      "MYSQL Database Connection Successful\n"
     ]
    }
   ],
   "source": [
    "Q4 = \"\"\"\n",
    "UPDATE orders\n",
    "SET quantity = 3, unit_price = 850.0\n",
    "WHERE order_id = 101;\n",
    "\n",
    "\"\"\"\n",
    "\n",
    "connection = create_db_connection(\"localhost\",\"root\",ps,db)\n",
    "results = read_query(connection,Q4)\n",
    "\n",
    "for result in results:\n",
    "    print(result)"
   ]
  },
  {
   "cell_type": "code",
   "execution_count": 27,
   "id": "771146b3",
   "metadata": {},
   "outputs": [
    {
     "name": "stdout",
     "output_type": "stream",
     "text": [
      "MYSQL Database Connection Successful\n",
      "(101, 'Steve', 'laptop', datetime.date(2008, 6, 12), 2, 800.0, '9654875412')\n",
      "(106, 'Danny', 'Smart TV', datetime.date(2018, 8, 20), 10, 300.0, '7720130449')\n"
     ]
    }
   ],
   "source": [
    "Q5 = \"\"\"\n",
    "SELECT * FROM orders\n",
    "WHERE unit_price > 50;\n",
    "\n",
    "\n",
    "\"\"\"\n",
    "\n",
    "connection = create_db_connection(\"localhost\",\"root\",ps,db)\n",
    "results = read_query(connection,Q5)\n",
    "\n",
    "for result in results:\n",
    "    print(result)"
   ]
  },
  {
   "cell_type": "code",
   "execution_count": 28,
   "id": "026821da",
   "metadata": {},
   "outputs": [
    {
     "name": "stdout",
     "output_type": "stream",
     "text": [
      "MYSQL Database Connection Successful\n",
      "(103, 'Stacy', 'Trousers', datetime.date(2019, 12, 25), 5, 50.0, '8976123645')\n",
      "(105, 'Maria', 'Headphones', datetime.date(2019, 5, 30), 6, 48.0, '8865316698')\n",
      "(102, 'Jos', 'Books', datetime.date(2019, 2, 10), 10, 12.0, '8367489124')\n",
      "(106, 'Danny', 'Smart TV', datetime.date(2018, 8, 20), 10, 300.0, '7720130449')\n",
      "(104, 'Nancy', 'T-Shirts', datetime.date(2018, 7, 14), 7, 30.0, '7368145099')\n",
      "(101, 'Steve', 'laptop', datetime.date(2008, 6, 12), 2, 800.0, '9654875412')\n"
     ]
    }
   ],
   "source": [
    "Q6 = \"\"\"\n",
    "SELECT * FROM orders\n",
    "ORDER BY date_ordered DESC;\n",
    "\n",
    "\n",
    "\n",
    "\"\"\"\n",
    "\n",
    "connection = create_db_connection(\"localhost\",\"root\",ps,db)\n",
    "results = read_query(connection,Q6)\n",
    "\n",
    "for result in results:\n",
    "    print(result)"
   ]
  },
  {
   "cell_type": "code",
   "execution_count": 29,
   "id": "2d1c2fef",
   "metadata": {},
   "outputs": [
    {
     "name": "stdout",
     "output_type": "stream",
     "text": [
      "MYSQL Database Connection Successful\n",
      "(101, 'Steve', 'laptop', datetime.date(2008, 6, 12), 2, 800.0, '9654875412')\n",
      "(102, 'Jos', 'Books', datetime.date(2019, 2, 10), 10, 12.0, '8367489124')\n",
      "(103, 'Stacy', 'Trousers', datetime.date(2019, 12, 25), 5, 50.0, '8976123645')\n",
      "(104, 'Nancy', 'T-Shirts', datetime.date(2018, 7, 14), 7, 30.0, '7368145099')\n",
      "(105, 'Maria', 'Headphones', datetime.date(2019, 5, 30), 6, 48.0, '8865316698')\n",
      "(106, 'Danny', 'Smart TV', datetime.date(2018, 8, 20), 10, 300.0, '7720130449')\n"
     ]
    }
   ],
   "source": [
    "Q7 = \"\"\"\n",
    "SELECT * FROM orders;\n",
    "\n",
    "\n",
    "\n",
    "\"\"\"\n",
    "\n",
    "connection = create_db_connection(\"localhost\",\"root\",ps,db)\n",
    "results = read_query(connection,Q7)\n",
    "\n",
    "for result in results:\n",
    "    print(result)"
   ]
  },
  {
   "cell_type": "code",
   "execution_count": null,
   "id": "27d73924",
   "metadata": {},
   "outputs": [],
   "source": []
  }
 ],
 "metadata": {
  "kernelspec": {
   "display_name": "Python 3 (ipykernel)",
   "language": "python",
   "name": "python3"
  },
  "language_info": {
   "codemirror_mode": {
    "name": "ipython",
    "version": 3
   },
   "file_extension": ".py",
   "mimetype": "text/x-python",
   "name": "python",
   "nbconvert_exporter": "python",
   "pygments_lexer": "ipython3",
   "version": "3.9.12"
  }
 },
 "nbformat": 4,
 "nbformat_minor": 5
}
